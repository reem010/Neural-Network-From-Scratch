{
  "cells": [
    {
      "cell_type": "code",
      "execution_count": 59,
      "metadata": {
        "id": "WJxY4UWOI_Rx"
      },
      "outputs": [],
      "source": [
        "import matplotlib.pyplot as plt\n",
        "import numpy as np\n",
        "from keras.datasets import mnist\n",
        "\n",
        "# Load data\n",
        "(x_train, y_train), (x_test, y_test) = mnist.load_data()\n",
        "\n",
        "# Convert data to float\n",
        "x_train = x_train.astype(float)\n",
        "y_train = y_train.astype(float)\n",
        "x_test = x_test.astype(float)\n",
        "y_test = y_test.astype(float)\n",
        "\n",
        "# Flatten the input images\n",
        "x_train = x_train.reshape(x_train.shape[0], -1)\n",
        "x_test = x_test.reshape(x_test.shape[0], -1)\n",
        "\n",
        "# Standardize the input data\n",
        "x_train = (x_train - np.mean(x_train)) / np.std(x_train)\n",
        "x_test = (x_test - np.mean(x_test)) / np.std(x_test)\n",
        "\n",
        "def init_params(number_of_layers,size_of_layers, output_layer):\n",
        "    weights = []\n",
        "\n",
        "    for i in range(number_of_layers):\n",
        "        if i == 0:\n",
        "            w = int(size_of_layers[i])\n",
        "            W1 = np.random.randn(w, x_train.shape[1])\n",
        "            weights.append(W1)\n",
        "        elif i == (number_of_layers - 1):\n",
        "            output = np.random.randn(output_layer, len(weights[i - 1]))\n",
        "            weights.append(output)\n",
        "            break\n",
        "        else:\n",
        "            w = int(size_of_layers[i])\n",
        "            W1 = np.random.randn(w, len(weights[i - 1]))\n",
        "            weights.append(W1)\n",
        "    return weights\n",
        "\n",
        "def sigmoid(Z):\n",
        "    return 1 / (1 + np.exp(-Z))\n",
        "\n",
        "def normalization(x):\n",
        "    return x / np.sum(x)\n",
        "\n",
        "def MSE(actual, predicted):\n",
        "    n = len(actual)\n",
        "    mse = np.sum((actual - predicted) ** 2) / n\n",
        "    return mse\n",
        "\n",
        "def forward_prop(weights, X):\n",
        "    Z = []\n",
        "    A = []\n",
        "    Z.append(weights[0].dot(X))\n",
        "    A.append(sigmoid(Z[0]))\n",
        "    for i in range(1, len(weights)):\n",
        "        Z.append(weights[i].dot(A[i - 1]))\n",
        "        A.append(sigmoid(Z[i]))\n",
        "    A[-1] = normalization(A[-1])\n",
        "    return Z, A\n",
        "\n",
        "def sigmoid_deriv(z):\n",
        "    return sigmoid(z) * (1 - sigmoid(z))\n",
        "\n",
        "def backward_prop(Z, A, weights, alpha, X, train_label):\n",
        "    dweights = [0] * len(weights)\n",
        "    dZ = [0] * len(weights)\n",
        "\n",
        "    # Output layer\n",
        "    error = train_label - A[-1]\n",
        "    dZ[-1] = error * sigmoid_deriv(Z[-1]) #dl/da * da/dz\n",
        "    dweights[-1] = alpha * np.outer(dZ[-1], A[-2])\n",
        "\n",
        "    # All hidden layers except the first one\n",
        "    for i in range(len(weights) - 2, 0, -1):\n",
        "        dZ[i] = weights[i + 1].T.dot(dZ[i + 1]) * sigmoid_deriv(Z[i])\n",
        "        dweights[i] = alpha * np.outer(dZ[i], A[i - 1])\n",
        "\n",
        "    # The first hidden layer\n",
        "    dZ[0] = weights[1].T.dot(dZ[1]) * sigmoid_deriv(Z[0])\n",
        "    dweights[0] = alpha * np.outer(dZ[0], X)\n",
        "\n",
        "    return dweights\n",
        "\n",
        "def update_params(weights, dweights, alpha):\n",
        "    for i in range(len(weights)):\n",
        "        weights[i] = weights[i] + dweights[i]\n",
        "    return weights\n",
        "\n",
        "def make_predictions(X, weights):\n",
        "    _, A = forward_prop(weights, X)\n",
        "    return A[-1]\n",
        "\n",
        "def get_accuracy(actual, predicted):\n",
        "    correct = np.sum(np.argmax(actual , axis=1) == np.argmax(predicted , axis= 1))\n",
        "    accuracy = correct / len(actual) * 100.0\n",
        "    return accuracy\n",
        "\n",
        "def training_fit(X, Y, hidden_layers,size_of_layers):\n",
        "    \n",
        "    weights = init_params(hidden_layers,size_of_layers, 10)\n",
        "\n",
        "    #actual = np.argmax(Y, axis=1)\n",
        "    alpha, iterations = 0.01,10\n",
        "    for j in range(iterations):\n",
        "        print(\"Iteration:\", j)\n",
        "        predictions = []\n",
        "        error = 0\n",
        "        for i in range(len(X)):\n",
        "            Z, A = forward_prop(weights, X[i])\n",
        "            error += MSE(A[-1], Y[i])\n",
        "            dweights = backward_prop(Z, A, weights, alpha, X[i], Y[i])\n",
        "            weights = update_params(weights, dweights, alpha)\n",
        "            predictions.append(make_predictions(X[i], weights))\n",
        "            \n",
        "        print(\"Error:\", error / len(X))\n",
        "        print(\"Training Accuracy:\", get_accuracy(Y, predictions), \"%\")\n",
        "\n",
        "    return weights\n",
        "\n",
        "# One-hot encode the target labels\n",
        "y_encoded_train = np.zeros((y_train.shape[0], 10))\n",
        "y_encoded_train[np.arange(len(y_train)), y_train.astype(int)] = 1\n"
      ]
    },
    {
      "cell_type": "code",
      "source": [
        "def test(weights):\n",
        "    y_encoded_test = np.zeros((y_test.shape[0], 10))\n",
        "    y_encoded_test[np.arange(len(y_test)), y_test.astype(int)] = 1\n",
        "    predictions = []\n",
        "    for i in range(len(x_test)):\n",
        "        predictions.append(make_predictions(x_test[i], weights))\n",
        "    print(\"Test Accuracy:\", get_accuracy(y_encoded_test, predictions), \"%\")\n",
        "    "
      ],
      "metadata": {
        "id": "SE8CH_o-QEev"
      },
      "execution_count": 60,
      "outputs": []
    },
    {
      "cell_type": "code",
      "execution_count": 61,
      "metadata": {
        "colab": {
          "base_uri": "https://localhost:8080/"
        },
        "id": "vK8uYFDbPg1k",
        "outputId": "87e725ad-8498-4b22-b11f-1ad58b964858"
      },
      "outputs": [
        {
          "output_type": "stream",
          "name": "stdout",
          "text": [
            "Iteration: 0\n",
            "Error: 0.07319728296523174\n",
            "Training Accuracy: 39.955 %\n",
            "Iteration: 1\n",
            "Error: 0.044776628230403376\n",
            "Training Accuracy: 72.74166666666667 %\n",
            "Iteration: 2\n",
            "Error: 0.03604315209072853\n",
            "Training Accuracy: 77.67833333333334 %\n",
            "Iteration: 3\n",
            "Error: 0.03150128995555681\n",
            "Training Accuracy: 80.27333333333333 %\n",
            "Iteration: 4\n",
            "Error: 0.028921398279062677\n",
            "Training Accuracy: 81.62666666666667 %\n",
            "Iteration: 5\n",
            "Error: 0.027261392656562952\n",
            "Training Accuracy: 82.595 %\n",
            "Iteration: 6\n",
            "Error: 0.026094203922115138\n",
            "Training Accuracy: 83.21499999999999 %\n",
            "Iteration: 7\n",
            "Error: 0.02522565185647608\n",
            "Training Accuracy: 83.69333333333333 %\n",
            "Iteration: 8\n",
            "Error: 0.024569793373119608\n",
            "Training Accuracy: 84.04833333333333 %\n",
            "Iteration: 9\n",
            "Error: 0.024031312554807886\n",
            "Training Accuracy: 84.355 %\n"
          ]
        }
      ],
      "source": [
        "weights = training_fit(x_train, y_encoded_train, 2, [20  , 10])"
      ]
    },
    {
      "cell_type": "code",
      "source": [
        "test(weights)"
      ],
      "metadata": {
        "colab": {
          "base_uri": "https://localhost:8080/"
        },
        "id": "4FzZU7AbHMMj",
        "outputId": "4330538e-5cf7-4792-a8b4-9e8bbd5824bf"
      },
      "execution_count": 62,
      "outputs": [
        {
          "output_type": "stream",
          "name": "stdout",
          "text": [
            "Test Accuracy: 84.44 %\n"
          ]
        }
      ]
    },
    {
      "cell_type": "code",
      "execution_count": 63,
      "metadata": {
        "id": "NjsF-fnpMKV0",
        "colab": {
          "base_uri": "https://localhost:8080/"
        },
        "outputId": "8c39dc78-21c8-4637-c0ba-e8cbb5a8685f"
      },
      "outputs": [
        {
          "output_type": "stream",
          "name": "stdout",
          "text": [
            "Iteration: 0\n",
            "Error: 0.07880019212464948\n",
            "Training Accuracy: 40.038333333333334 %\n",
            "Iteration: 1\n",
            "Error: 0.059745422203045635\n",
            "Training Accuracy: 63.66333333333334 %\n",
            "Iteration: 2\n",
            "Error: 0.04622097980165848\n",
            "Training Accuracy: 73.63166666666666 %\n",
            "Iteration: 3\n",
            "Error: 0.0373576229839677\n",
            "Training Accuracy: 78.86333333333333 %\n",
            "Iteration: 4\n",
            "Error: 0.03180508484888139\n",
            "Training Accuracy: 81.55666666666667 %\n",
            "Iteration: 5\n",
            "Error: 0.028244974664994735\n",
            "Training Accuracy: 83.28333333333333 %\n",
            "Iteration: 6\n",
            "Error: 0.025833135228933095\n",
            "Training Accuracy: 84.46833333333333 %\n",
            "Iteration: 7\n",
            "Error: 0.0241282160796598\n",
            "Training Accuracy: 85.29666666666667 %\n",
            "Iteration: 8\n",
            "Error: 0.02288426392353467\n",
            "Training Accuracy: 85.92666666666666 %\n",
            "Iteration: 9\n",
            "Error: 0.02192455588190358\n",
            "Training Accuracy: 86.38666666666667 %\n"
          ]
        }
      ],
      "source": [
        "weights = training_fit(x_train, y_encoded_train, 3, [20 , 10 , 10])"
      ]
    },
    {
      "cell_type": "code",
      "source": [
        "test(weights)"
      ],
      "metadata": {
        "colab": {
          "base_uri": "https://localhost:8080/"
        },
        "id": "iD_HcUXsQ8hP",
        "outputId": "0c09784f-fdb5-4498-d9f7-7aef17d1db8c"
      },
      "execution_count": 64,
      "outputs": [
        {
          "output_type": "stream",
          "name": "stdout",
          "text": [
            "Test Accuracy: 85.75 %\n"
          ]
        }
      ]
    },
    {
      "cell_type": "code",
      "execution_count": 65,
      "metadata": {
        "colab": {
          "base_uri": "https://localhost:8080/"
        },
        "id": "fuIDdIRWGbFv",
        "outputId": "9e19d7e5-17b5-4859-e72b-b63fcbce9616"
      },
      "outputs": [
        {
          "output_type": "stream",
          "name": "stdout",
          "text": [
            "Iteration: 0\n",
            "Error: 0.0772424236909884\n",
            "Training Accuracy: 40.733333333333334 %\n",
            "Iteration: 1\n",
            "Error: 0.0530564220394624\n",
            "Training Accuracy: 68.11666666666667 %\n",
            "Iteration: 2\n",
            "Error: 0.039600970622651006\n",
            "Training Accuracy: 77.45 %\n",
            "Iteration: 3\n",
            "Error: 0.032397544424319934\n",
            "Training Accuracy: 81.42166666666667 %\n",
            "Iteration: 4\n",
            "Error: 0.028184195690423765\n",
            "Training Accuracy: 83.52833333333334 %\n",
            "Iteration: 5\n",
            "Error: 0.02562394996615574\n",
            "Training Accuracy: 84.69166666666666 %\n",
            "Iteration: 6\n",
            "Error: 0.02410553095713617\n",
            "Training Accuracy: 85.32 %\n",
            "Iteration: 7\n",
            "Error: 0.02328568457475208\n",
            "Training Accuracy: 85.61833333333333 %\n",
            "Iteration: 8\n",
            "Error: 0.022646024815252352\n",
            "Training Accuracy: 85.76833333333333 %\n",
            "Iteration: 9\n",
            "Error: 0.022355650856213723\n",
            "Training Accuracy: 85.81333333333333 %\n"
          ]
        }
      ],
      "source": [
        "weights = training_fit(x_train, y_encoded_train, 3, [10 , 20 , 10])"
      ]
    },
    {
      "cell_type": "code",
      "source": [
        "test(weights)"
      ],
      "metadata": {
        "colab": {
          "base_uri": "https://localhost:8080/"
        },
        "id": "II_oF4CMQ_eq",
        "outputId": "dd9c9519-50cb-4686-d4ba-312745885920"
      },
      "execution_count": 66,
      "outputs": [
        {
          "output_type": "stream",
          "name": "stdout",
          "text": [
            "Test Accuracy: 85.74000000000001 %\n"
          ]
        }
      ]
    },
    {
      "cell_type": "code",
      "execution_count": 66,
      "metadata": {
        "id": "Kq-WTB3gGbFw"
      },
      "outputs": [],
      "source": []
    }
  ],
  "metadata": {
    "accelerator": "GPU",
    "colab": {
      "gpuType": "T4",
      "provenance": []
    },
    "gpuClass": "standard",
    "kernelspec": {
      "display_name": "Python 3 (ipykernel)",
      "language": "python",
      "name": "python3"
    },
    "language_info": {
      "codemirror_mode": {
        "name": "ipython",
        "version": 3
      },
      "file_extension": ".py",
      "mimetype": "text/x-python",
      "name": "python",
      "nbconvert_exporter": "python",
      "pygments_lexer": "ipython3",
      "version": "3.11.2"
    }
  },
  "nbformat": 4,
  "nbformat_minor": 0
}